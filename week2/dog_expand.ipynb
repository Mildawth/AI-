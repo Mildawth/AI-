{
  "nbformat": 4,
  "nbformat_minor": 0,
  "metadata": {
    "colab": {
      "provenance": []
    },
    "kernelspec": {
      "name": "python3",
      "display_name": "Python 3"
    },
    "language_info": {
      "name": "python"
    }
  },
  "cells": [
    {
      "cell_type": "code",
      "execution_count": 1,
      "metadata": {
        "colab": {
          "base_uri": "https://localhost:8080/"
        },
        "id": "1TXzAVEnYuja",
        "outputId": "dd5647b1-9911-4988-d7a3-b5e092c4f098"
      },
      "outputs": [
        {
          "output_type": "stream",
          "name": "stdout",
          "text": [
            "ポチがワン！と吠えます。\n",
            "シロがワン！と吠えます。\n",
            "ポチの好物はリンゴです。\n",
            "シロの好物はバナナです。\n"
          ]
        }
      ],
      "source": [
        "# Dogクラスの定義(favorite属性とlikeメソッドを追加してください)\n",
        "class Dog:\n",
        "    def __init__(self, name, age, favorite):\n",
        "        self.name = name\n",
        "        self.age = age\n",
        "        self.favorite = favorite\n",
        "\n",
        "    def bark(self):\n",
        "        print(f\"{self.name}がワン！と吠えます。\")\n",
        "\n",
        "    def like(self):\n",
        "        print(f\"{self.name}の好物は{self.favorite}です。\")\n",
        "\n",
        "# Dogクラスのインスタンスを作成 (適切な初期化を行ってください)\n",
        "pochi = Dog(\"ポチ\", 10, \"リンゴ\")\n",
        "shiro = Dog(\"シロ\", 9, \"バナナ\")\n",
        "\n",
        "# インスタンスのメソッドを呼び出す\n",
        "pochi.bark()  # 出力: ポチがワン！と吠えます。\n",
        "shiro.bark()  # 出力: シロがワン！と吠えます。\n",
        "\n",
        "# 以下で実装したlikeメソッドを呼び出してください\n",
        "pochi.like()\n",
        "shiro.like()"
      ]
    }
  ]
}